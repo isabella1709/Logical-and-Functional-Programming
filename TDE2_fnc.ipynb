{
  "nbformat": 4,
  "nbformat_minor": 0,
  "metadata": {
    "colab": {
      "provenance": [],
      "include_colab_link": true
    },
    "kernelspec": {
      "name": "python3",
      "display_name": "Python 3"
    },
    "language_info": {
      "name": "python"
    }
  },
  "cells": [
    {
      "cell_type": "markdown",
      "metadata": {
        "id": "view-in-github",
        "colab_type": "text"
      },
      "source": [
        "<a href=\"https://colab.research.google.com/github/isabella1709/Logical-and-Functional-Programming/blob/main/TDE2_fnc.ipynb\" target=\"_parent\"><img src=\"https://colab.research.google.com/assets/colab-badge.svg\" alt=\"Open In Colab\"/></a>"
      ]
    },
    {
      "cell_type": "code",
      "execution_count": null,
      "metadata": {
        "id": "PpgVgyAWja-v",
        "colab": {
          "base_uri": "https://localhost:8080/"
        },
        "outputId": "442a03b0-bcad-43cc-abc8-24313f16cf42"
      },
      "outputs": [
        {
          "output_type": "stream",
          "name": "stdout",
          "text": [
            "Fórmula 1: ~A & ~B\n",
            "Fórmula 2: A & (B | ~C)\n",
            "Fórmula 3: ~C & (A | B)\n"
          ]
        }
      ],
      "source": [
        "#Isabella, Michele, Yejin\n",
        "\n",
        "# Importar bibliotecas (to_cnf é a função que converte para FNC)\n",
        "from sympy import symbols, Not, And, Or, to_cnf, latex\n",
        "# Módulo de expressões regulares, usado para buscar variáveis dentro das fórmulas.\n",
        "import re\n",
        "\n",
        "# Converte o latex para o sympy\n",
        "def latex_para_sympy(latex_fbf):\n",
        "    latex_fbf = latex_fbf.replace(r'\\neg', '~').replace(r'\\lou', '|').replace(r'\\le', '&')\n",
        "    return latex_fbf\n",
        "\n",
        "# Ler o arquivo de entrada\n",
        "def ler_arquivo_entrada(entrada):\n",
        "    with open(entrada, 'r') as file:\n",
        "        linha = file.readlines()\n",
        "        num_fbf = int(linha[0].strip())\n",
        "        fbf_list = [line.strip() for line in linha[1:num_fbf + 1]]\n",
        "    return fbf_list\n",
        "\n",
        "\n",
        "# Escrever arquivo de saída\n",
        "def escrever_arquivo_saida(saida, fnc_lista):\n",
        "    with open(saida, 'w') as file:\n",
        "        for fnc in fnc_lista:\n",
        "            file.write(latex(fnc) + '\\n')\n",
        "\n",
        "# Converter FBF para FNC\n",
        "def converter_fbf_para_fnc(fbf_lista):\n",
        "    fnc_lista = []\n",
        "    for fbf in fbf_lista:\n",
        "        sympy_fbf = latex_para_sympy(fbf)\n",
        "        # Encontra todas as letras na fórmula.\n",
        "        variaveis = re.findall(r'[a-zA-Z]', sympy_fbf)\n",
        "        # Avaliar a expressão usando eval e a biblioteca sympy\n",
        "        sympy_expr = eval(sympy_fbf, {var: symbols(var) for var in variaveis})\n",
        "        fnc = to_cnf(sympy_expr, simplify=True)\n",
        "        fnc_lista.append(fnc)\n",
        "\n",
        "    return fnc_lista\n",
        "\n",
        "def imprimir(fnc_list):\n",
        "    for i, fnc in enumerate(fnc_list, 1):\n",
        "        print(f\"Fórmula {i}: {fnc}\")\n",
        "\n",
        "def main(input_arquivo, output_arquivo):\n",
        "    fbf_list = ler_arquivo_entrada(input_arquivo)\n",
        "    fnc_list = converter_fbf_para_fnc(fbf_list)\n",
        "    escrever_arquivo_saida(output_arquivo, fnc_list)\n",
        "    imprimir(fnc_list)\n",
        "\n",
        "if __name__ == '__main__':\n",
        "    input_arquivo = 'entrada.txt'\n",
        "    output_arquivo = 'saida.txt'\n",
        "    main(input_arquivo, output_arquivo)\n",
        "\n"
      ]
    }
  ]
}